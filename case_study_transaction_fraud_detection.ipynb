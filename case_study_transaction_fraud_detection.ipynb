{
 "cells": [
  {
   "cell_type": "code",
   "execution_count": 2,
   "metadata": {
    "collapsed": true
   },
   "outputs": [],
   "source": [
    "spark = SparkSession.builder.appName(\"Paysim Notebook\").getOrCreate()"
   ]
  },
  {
   "cell_type": "code",
   "execution_count": 5,
   "metadata": {},
   "outputs": [],
   "source": [
    "# load dataset\n",
    "df = spark.read.option(\"header\",True).option(\"inferSchema\",True).csv(\"use_cases/paysim/*.csv\")"
   ]
  },
  {
   "cell_type": "code",
   "execution_count": 7,
   "metadata": {},
   "outputs": [
    {
     "name": "stdout",
     "output_type": "stream",
     "text": [
      "root\n",
      " |-- step: integer (nullable = true)\n",
      " |-- type: string (nullable = true)\n",
      " |-- amount: double (nullable = true)\n",
      " |-- nameOrig: string (nullable = true)\n",
      " |-- oldbalanceOrg: double (nullable = true)\n",
      " |-- newbalanceOrig: double (nullable = true)\n",
      " |-- nameDest: string (nullable = true)\n",
      " |-- oldbalanceDest: double (nullable = true)\n",
      " |-- newbalanceDest: double (nullable = true)\n",
      " |-- isFraud: integer (nullable = true)\n",
      " |-- isFlaggedFraud: integer (nullable = true)\n",
      "\n"
     ]
    }
   ],
   "source": [
    "# check schema\n",
    "df.printSchema()"
   ]
  },
  {
   "cell_type": "code",
   "execution_count": 8,
   "metadata": {},
   "outputs": [
    {
     "name": "stdout",
     "output_type": "stream",
     "text": [
      "+-------+------------------+--------+-----------------+-----------+------------------+-----------------+-----------+------------------+------------------+--------------------+--------------------+\n",
      "|summary|              step|    type|           amount|   nameOrig|     oldbalanceOrg|   newbalanceOrig|   nameDest|    oldbalanceDest|    newbalanceDest|             isFraud|      isFlaggedFraud|\n",
      "+-------+------------------+--------+-----------------+-----------+------------------+-----------------+-----------+------------------+------------------+--------------------+--------------------+\n",
      "|  count|           6362620| 6362620|          6362620|    6362620|           6362620|          6362620|    6362620|           6362620|           6362620|             6362620|             6362620|\n",
      "|   mean|243.39724563151657|    null|179861.9035491287|       null| 833883.1040744762|855113.6685785811|       null|1100701.6665196535|1224996.3982019224|0.001290820448180152| 2.51468734577894E-6|\n",
      "| stddev|142.33197104913066|    null|603858.2314629209|       null|2888242.6730375267|2924048.502954259|       null|3399180.1129944525|3674128.9421196915|0.035904796801604424|0.001585774705736...|\n",
      "|    min|                 1| CASH_IN|              0.0|C1000000639|               0.0|              0.0|C1000004082|               0.0|               0.0|                   0|                   0|\n",
      "|    max|               743|TRANSFER|    9.244551664E7| C999999784|     5.958504037E7|    4.958504037E7| M999999784|    3.5601588935E8|    3.5617927892E8|                   1|                   1|\n",
      "+-------+------------------+--------+-----------------+-----------+------------------+-----------------+-----------+------------------+------------------+--------------------+--------------------+\n",
      "\n"
     ]
    }
   ],
   "source": [
    "# view basic stats\n",
    "df.describe().show()"
   ]
  },
  {
   "cell_type": "code",
   "execution_count": 9,
   "metadata": {},
   "outputs": [
    {
     "name": "stdout",
     "output_type": "stream",
     "text": [
      "+--------+-------+----+\n",
      "|    type|      0|   1|\n",
      "+--------+-------+----+\n",
      "|TRANSFER| 528812|4097|\n",
      "| CASH_IN|1399284|null|\n",
      "|CASH_OUT|2233384|4116|\n",
      "| PAYMENT|2151495|null|\n",
      "|   DEBIT|  41432|null|\n",
      "+--------+-------+----+\n",
      "\n"
     ]
    }
   ],
   "source": [
    "# check fraud by type\n",
    "df.groupBy(\"type\").pivot(\"isFraud\").count().show()"
   ]
  },
  {
   "cell_type": "code",
   "execution_count": 10,
   "metadata": {
    "collapsed": true
   },
   "outputs": [],
   "source": [
    "from pyspark.ml import Pipeline\n",
    "from pyspark.ml.classification import DecisionTreeClassificationModel\n",
    "from pyspark.ml.classification import DecisionTreeClassifier\n",
    "from pyspark.ml.evaluation import MulticlassClassificationEvaluator\n",
    "from pyspark.ml.feature import IndexToString, StringIndexer, VectorIndexer\n",
    "from pyspark.ml.feature import VectorAssembler"
   ]
  },
  {
   "cell_type": "code",
   "execution_count": 11,
   "metadata": {
    "collapsed": true
   },
   "outputs": [],
   "source": [
    "# convert type to integer category\n",
    "labelIndexer = StringIndexer().setInputCol(\"type\").setOutputCol(\"typeLabel\").fit(df)"
   ]
  },
  {
   "cell_type": "code",
   "execution_count": 13,
   "metadata": {},
   "outputs": [],
   "source": [
    "# generate feature vector\n",
    "assembler = VectorAssembler().setInputCols([\n",
    "\"typeLabel\",\"amount\",\"oldbalanceOrg\",\"newbalanceOrig\",\"oldbalanceDest\",\"newbalanceDest\"]).setOutputCol(\"features\")"
   ]
  },
  {
   "cell_type": "code",
   "execution_count": 15,
   "metadata": {},
   "outputs": [],
   "source": [
    "# Split data\n",
    "trainingData, testData = df.randomSplit([0.7, 0.3])"
   ]
  },
  {
   "cell_type": "code",
   "execution_count": 16,
   "metadata": {
    "collapsed": true
   },
   "outputs": [],
   "source": [
    "# use decision tree classifier\n",
    "dt = DecisionTreeClassifier().setLabelCol(\"isFraud\").setFeaturesCol(\"features\")"
   ]
  },
  {
   "cell_type": "code",
   "execution_count": 17,
   "metadata": {
    "collapsed": true
   },
   "outputs": [],
   "source": [
    "# generate pipeline\n",
    "pipeline = Pipeline().setStages([labelIndexer, assembler, dt])"
   ]
  },
  {
   "cell_type": "code",
   "execution_count": 18,
   "metadata": {
    "collapsed": true
   },
   "outputs": [],
   "source": [
    "# generate model\n",
    "model = pipeline.fit(trainingData)"
   ]
  },
  {
   "cell_type": "code",
   "execution_count": 19,
   "metadata": {
    "collapsed": true
   },
   "outputs": [],
   "source": [
    "# predict\n",
    "predictions = model.transform(testData)"
   ]
  },
  {
   "cell_type": "code",
   "execution_count": 20,
   "metadata": {},
   "outputs": [
    {
     "name": "stdout",
     "output_type": "stream",
     "text": [
      "0.999588600298\n"
     ]
    }
   ],
   "source": [
    "# check accuracy\n",
    "evaluator = MulticlassClassificationEvaluator().setLabelCol(\"isFraud\").setPredictionCol(\"prediction\").setMetricName(\"accuracy\")\n",
    "accuracy = evaluator.evaluate(predictions)\n",
    "print accuracy"
   ]
  },
  {
   "cell_type": "code",
   "execution_count": 32,
   "metadata": {},
   "outputs": [
    {
     "name": "stdout",
     "output_type": "stream",
     "text": [
      "Learned classification tree model: DecisionTreeClassificationModel (uid=DecisionTreeClassifier_409287d863ebe06731c0) of depth 5 with 45 nodes\n",
      "  If (feature 1 <= 711870.24)\n",
      "   If (feature 0 in {1.0,2.0,4.0})\n",
      "    Predict: 0.0\n",
      "   Else (feature 0 not in {1.0,2.0,4.0})\n",
      "    If (feature 5 <= 0.0)\n",
      "     If (feature 0 in {0.0})\n",
      "      If (feature 1 <= 1458.95)\n",
      "       Predict: 0.0\n",
      "      Else (feature 1 > 1458.95)\n",
      "       Predict: 0.0\n",
      "     Else (feature 0 not in {0.0})\n",
      "      If (feature 4 <= 0.0)\n",
      "       Predict: 1.0\n",
      "      Else (feature 4 > 0.0)\n",
      "       Predict: 0.0\n",
      "    Else (feature 5 > 0.0)\n",
      "     If (feature 2 <= 112544.0)\n",
      "      If (feature 5 <= 114735.72)\n",
      "       Predict: 0.0\n",
      "      Else (feature 5 > 114735.72)\n",
      "       Predict: 0.0\n",
      "     Else (feature 2 > 112544.0)\n",
      "      If (feature 3 <= 0.0)\n",
      "       Predict: 0.0\n",
      "      Else (feature 3 > 0.0)\n",
      "       Predict: 0.0\n",
      "  Else (feature 1 > 711870.24)\n",
      "   If (feature 2 <= 773479.0)\n",
      "    If (feature 5 <= 0.0)\n",
      "     If (feature 2 <= 366833.0)\n",
      "      Predict: 0.0\n",
      "     Else (feature 2 > 366833.0)\n",
      "      If (feature 0 in {0.0,2.0})\n",
      "       Predict: 0.0\n",
      "      Else (feature 0 not in {0.0,2.0})\n",
      "       Predict: 1.0\n",
      "    Else (feature 5 > 0.0)\n",
      "     If (feature 0 in {2.0,3.0})\n",
      "      If (feature 4 <= 277157.21)\n",
      "       Predict: 0.0\n",
      "      Else (feature 4 > 277157.21)\n",
      "       Predict: 0.0\n",
      "     Else (feature 0 not in {2.0,3.0})\n",
      "      If (feature 2 <= 366833.0)\n",
      "       Predict: 0.0\n",
      "      Else (feature 2 > 366833.0)\n",
      "       Predict: 0.0\n",
      "   Else (feature 2 > 773479.0)\n",
      "    If (feature 3 <= 0.0)\n",
      "     If (feature 0 in {3.0})\n",
      "      If (feature 5 <= 788122.84)\n",
      "       Predict: 1.0\n",
      "      Else (feature 5 > 788122.84)\n",
      "       Predict: 0.0\n",
      "     Else (feature 0 not in {3.0})\n",
      "      Predict: 1.0\n",
      "    Else (feature 3 > 0.0)\n",
      "     If (feature 5 <= 0.0)\n",
      "      If (feature 2 <= 4602088.86)\n",
      "       Predict: 0.0\n",
      "      Else (feature 2 > 4602088.86)\n",
      "       Predict: 1.0\n",
      "     Else (feature 5 > 0.0)\n",
      "      If (feature 4 <= 207697.58)\n",
      "       Predict: 0.0\n",
      "      Else (feature 4 > 207697.58)\n",
      "       Predict: 0.0\n",
      "\n"
     ]
    }
   ],
   "source": [
    "# print model tree\n",
    "treeModel = model.stages[2]\n",
    "print \"Learned classification tree model:\", treeModel.toDebugString"
   ]
  },
  {
   "cell_type": "code",
   "execution_count": 34,
   "metadata": {},
   "outputs": [],
   "source": [
    "# save model\n",
    "model.write().overwrite().save(\"use_cases/paysim/pymodel/\")"
   ]
  }
 ],
 "metadata": {
  "kernelspec": {
   "display_name": "PySpark",
   "language": "python",
   "name": "pyspark"
  },
  "language_info": {
   "codemirror_mode": {
    "name": "ipython",
    "version": 2
   },
   "file_extension": ".py",
   "mimetype": "text/x-python",
   "name": "python",
   "nbconvert_exporter": "python",
   "pygments_lexer": "ipython2",
   "version": "2.7.14"
  }
 },
 "nbformat": 4,
 "nbformat_minor": 2
}
