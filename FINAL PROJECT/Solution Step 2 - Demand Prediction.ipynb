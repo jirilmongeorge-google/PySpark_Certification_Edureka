{
 "cells": [
  {
   "cell_type": "code",
   "execution_count": 1,
   "metadata": {
    "collapsed": true
   },
   "outputs": [],
   "source": [
    "import os\n",
    "from pyspark.sql import SparkSession, SQLContext\n",
    "from pyspark import SparkContext, SparkConf\n",
    "\n",
    "from pyspark.sql.functions import explode\n",
    "from pyspark.sql.functions import countDistinct, avg\n",
    "from pyspark.sql.functions import dayofmonth,dayofyear,year,month,hour,weekofyear,date_format\n",
    "from pyspark.sql.functions import col as func_col\n",
    "from pyspark.sql.functions import lit\n",
    "from pyspark.sql.functions import *\n",
    "from pyspark.ml import Pipeline"
   ]
  },
  {
   "cell_type": "code",
   "execution_count": 2,
   "metadata": {
    "collapsed": true
   },
   "outputs": [],
   "source": [
    "user_id = 'Edureka_749763'\n",
    "app_name = '{0} : Spark SQL'.format(user_id)"
   ]
  },
  {
   "cell_type": "code",
   "execution_count": 3,
   "metadata": {
    "collapsed": true
   },
   "outputs": [],
   "source": [
    "#Configuration of the Spark Session\n",
    "conf = SparkConf()  # create the configuration\n",
    "conf.set('spark.driver.extraClassPath', \"/usr/share/cmf/common_jars/mysql-connector-java-5.1.15.jar\")  \n",
    "conf.set('spark.executor.extraClassPath', \"/usr/share/cmf/common_jars/mysql-connector-java-5.1.15.jar\")\n",
    "#conf.set('spark.driver.extraClassPath', \"/usr/share/java/mysql-connector-java-5.1.42-bin.jar\")  \n",
    "#conf.set('spark.executor.extraClassPath', \"/usr/share/java/mysql-connector-java-5.1.42-bin.jar\")\n",
    "#os.environ['SPARK_CLASSPATH'] = \"/usr/share/java/mysql-connector-java-5.1.42-bin.jar\" \n",
    "#Spark Session object\n",
    "spark = SparkSession.builder.config(conf=conf).appName(app_name).getOrCreate()"
   ]
  },
  {
   "cell_type": "code",
   "execution_count": 4,
   "metadata": {},
   "outputs": [
    {
     "name": "stdout",
     "output_type": "stream",
     "text": [
      "+------+-------+----------+-------+-----+------+--------+---------+------+----------+-----+---+-----+----+----+\n",
      "|season|holiday|workingday|weather| temp| atemp|humidity|windspeed|casual|registered|count|day|month|year|hour|\n",
      "+------+-------+----------+-------+-----+------+--------+---------+------+----------+-----+---+-----+----+----+\n",
      "|     1|      0|         0|      1| 9.84|14.395|      81|      0.0|     3|        13|   16|  1|    1|2011|   0|\n",
      "|     1|      0|         0|      1| 9.02|13.635|      80|      0.0|     8|        32|   40|  1|    1|2011|   1|\n",
      "|     1|      0|         0|      1| 9.02|13.635|      80|      0.0|     5|        27|   32|  1|    1|2011|   2|\n",
      "|     1|      0|         0|      1| 9.84|14.395|      75|      0.0|     3|        10|   13|  1|    1|2011|   3|\n",
      "|     1|      0|         0|      1| 9.84|14.395|      75|      0.0|     0|         1|    1|  1|    1|2011|   4|\n",
      "|     1|      0|         0|      2| 9.84| 12.88|      75|   6.0032|     0|         1|    1|  1|    1|2011|   5|\n",
      "|     1|      0|         0|      1| 9.02|13.635|      80|      0.0|     2|         0|    2|  1|    1|2011|   6|\n",
      "|     1|      0|         0|      1|  8.2| 12.88|      86|      0.0|     1|         2|    3|  1|    1|2011|   7|\n",
      "|     1|      0|         0|      1| 9.84|14.395|      75|      0.0|     1|         7|    8|  1|    1|2011|   8|\n",
      "|     1|      0|         0|      1|13.12|17.425|      76|      0.0|     8|         6|   14|  1|    1|2011|   9|\n",
      "|     1|      0|         0|      1|15.58|19.695|      76|  16.9979|    12|        24|   36|  1|    1|2011|  10|\n",
      "|     1|      0|         0|      1|14.76|16.665|      81|  19.0012|    26|        30|   56|  1|    1|2011|  11|\n",
      "|     1|      0|         0|      1|17.22| 21.21|      77|  19.0012|    29|        55|   84|  1|    1|2011|  12|\n",
      "|     1|      0|         0|      2|18.86|22.725|      72|  19.9995|    47|        47|   94|  1|    1|2011|  13|\n",
      "|     1|      0|         0|      2|18.86|22.725|      72|  19.0012|    35|        71|  106|  1|    1|2011|  14|\n",
      "|     1|      0|         0|      2|18.04| 21.97|      77|  19.9995|    40|        70|  110|  1|    1|2011|  15|\n",
      "|     1|      0|         0|      2|17.22| 21.21|      82|  19.9995|    41|        52|   93|  1|    1|2011|  16|\n",
      "|     1|      0|         0|      2|18.04| 21.97|      82|  19.0012|    15|        52|   67|  1|    1|2011|  17|\n",
      "|     1|      0|         0|      3|17.22| 21.21|      88|  16.9979|     9|        26|   35|  1|    1|2011|  18|\n",
      "|     1|      0|         0|      3|17.22| 21.21|      88|  16.9979|     6|        31|   37|  1|    1|2011|  19|\n",
      "+------+-------+----------+-------+-----+------+--------+---------+------+----------+-----+---+-----+----+----+\n",
      "only showing top 20 rows\n",
      "\n"
     ]
    }
   ],
   "source": [
    "df_mysql = (spark.read.format(\"jdbc\")\n",
    "    .option(\"url\", 'jdbc:mysql://dbserver.edu.cloudlab.com/labuser_database')\n",
    "    .option(\"driver\", \"com.mysql.jdbc.Driver\")\n",
    "    .option(\"dbtable\", \"bike_predictions\")\n",
    "    .option(\"user\", 'edu_labuser')\n",
    "    .option(\"password\", \"edureka\")\n",
    "    .load()\n",
    ")\n",
    "df_mysql.show()"
   ]
  },
  {
   "cell_type": "code",
   "execution_count": 5,
   "metadata": {},
   "outputs": [
    {
     "name": "stdout",
     "output_type": "stream",
     "text": [
      "+--------------------+------+-------+----------+-------+-----+------+--------+---------+\n",
      "|            datetime|season|holiday|workingday|weather| temp| atemp|humidity|windspeed|\n",
      "+--------------------+------+-------+----------+-------+-----+------+--------+---------+\n",
      "|2011-01-20 00:00:...|     1|      0|         1|      1|10.66|11.365|      56|  26.0027|\n",
      "|2011-01-20 01:00:...|     1|      0|         1|      1|10.66|13.635|      56|      0.0|\n",
      "|2011-01-20 02:00:...|     1|      0|         1|      1|10.66|13.635|      56|      0.0|\n",
      "|2011-01-20 03:00:...|     1|      0|         1|      1|10.66| 12.88|      56|  11.0014|\n",
      "|2011-01-20 04:00:...|     1|      0|         1|      1|10.66| 12.88|      56|  11.0014|\n",
      "+--------------------+------+-------+----------+-------+-----+------+--------+---------+\n",
      "only showing top 5 rows\n",
      "\n"
     ]
    }
   ],
   "source": [
    "## load testing Data and then analyze it\n",
    "test_csv_file = '/user/edureka_749763/bike-sharing-demand/test.csv'\n",
    "test_df = spark.read.csv(test_csv_file, inferSchema=True, header=True)\n",
    "test_df.show(5)"
   ]
  },
  {
   "cell_type": "code",
   "execution_count": 6,
   "metadata": {},
   "outputs": [
    {
     "name": "stdout",
     "output_type": "stream",
     "text": [
      "+--------------------+--------------------+------+-------+----------+-------+-----+------+--------+---------+\n",
      "|            features|            datetime|season|holiday|workingday|weather| temp| atemp|humidity|windspeed|\n",
      "+--------------------+--------------------+------+-------+----------+-------+-----+------+--------+---------+\n",
      "|[0.0,0.0,1.0,10.6...|2011-01-20 00:00:...|     1|      0|         1|      1|10.66|11.365|      56|  26.0027|\n",
      "|[0.0,0.0,1.0,10.6...|2011-01-20 01:00:...|     1|      0|         1|      1|10.66|13.635|      56|      0.0|\n",
      "|[0.0,0.0,1.0,10.6...|2011-01-20 02:00:...|     1|      0|         1|      1|10.66|13.635|      56|      0.0|\n",
      "|[0.0,0.0,1.0,10.6...|2011-01-20 03:00:...|     1|      0|         1|      1|10.66| 12.88|      56|  11.0014|\n",
      "|[0.0,0.0,1.0,10.6...|2011-01-20 04:00:...|     1|      0|         1|      1|10.66| 12.88|      56|  11.0014|\n",
      "+--------------------+--------------------+------+-------+----------+-------+-----+------+--------+---------+\n",
      "only showing top 5 rows\n",
      "\n"
     ]
    }
   ],
   "source": [
    "import pandas as pd\n",
    "from pylab import *\n",
    "from pyspark.ml.feature import StringIndexer, OneHotEncoder, VectorAssembler\n",
    "from pyspark.ml import Pipeline, PipelineModel\n",
    "\n",
    "stringIndexer = StringIndexer(inputCol = \"season\", outputCol = 'season' + 'Index')\n",
    "OHencoder = OneHotEncoder(inputCol=stringIndexer.getOutputCol(), outputCol=\"season_cat\")\n",
    "stages = []\n",
    "stages += [stringIndexer, OHencoder]\n",
    "assemblerInputs = [\"season_cat\"] + ['temp','atemp','humidity','windspeed']\n",
    "Vectassembler = VectorAssembler(inputCols=assemblerInputs, outputCol='features')\n",
    "stages += [Vectassembler]\n",
    "cols = test_df.columns\n",
    "pipeline = Pipeline(stages = stages)\n",
    "pipelineModel = pipeline.fit(test_df)\n",
    "test_df = pipelineModel.transform(test_df)\n",
    "selectedCols = ['features']+cols\n",
    "test_df = test_df.select(selectedCols)\n",
    "test_df.show(5)"
   ]
  },
  {
   "cell_type": "code",
   "execution_count": null,
   "metadata": {},
   "outputs": [
    {
     "name": "stdout",
     "output_type": "stream",
     "text": [
      "+-----------------+--------------------+\n",
      "|       prediction|            features|\n",
      "+-----------------+--------------------+\n",
      "| 95.0677949329888|[0.0,0.0,1.0,10.6...|\n",
      "|43.58663693854156|[0.0,0.0,1.0,10.6...|\n",
      "|43.58663693854156|[0.0,0.0,1.0,10.6...|\n",
      "|97.83113259769293|[0.0,0.0,1.0,10.6...|\n",
      "|97.83113259769293|[0.0,0.0,1.0,10.6...|\n",
      "+-----------------+--------------------+\n",
      "only showing top 5 rows\n",
      "\n",
      "+--------------------+------+-------+----------+-------+-----+------+--------+---------+-----------------+\n",
      "|            datetime|season|holiday|workingday|weather| temp| atemp|humidity|windspeed|       prediction|\n",
      "+--------------------+------+-------+----------+-------+-----+------+--------+---------+-----------------+\n",
      "|2011-01-20 00:00:...|     1|      0|         1|      1|10.66|11.365|      56|  26.0027| 95.0677949329888|\n",
      "|2011-01-20 01:00:...|     1|      0|         1|      1|10.66|13.635|      56|      0.0|43.58663693854156|\n",
      "|2011-01-20 02:00:...|     1|      0|         1|      1|10.66|13.635|      56|      0.0|43.58663693854156|\n",
      "|2011-01-20 03:00:...|     1|      0|         1|      1|10.66| 12.88|      56|  11.0014|97.83113259769293|\n",
      "|2011-01-20 04:00:...|     1|      0|         1|      1|10.66| 12.88|      56|  11.0014|97.83113259769293|\n",
      "+--------------------+------+-------+----------+-------+-----+------+--------+---------+-----------------+\n",
      "only showing top 5 rows\n",
      "\n"
     ]
    }
   ],
   "source": [
    "# Make prediction using stored model\n",
    "reloaded_model = PipelineModel.load(\"/user/edureka_749763/models_gradient_boost_regressor\")\n",
    "predictions = reloaded_model.transform(test_df)\n",
    "predictions.select(\"prediction\",\"features\").show(5)\n",
    "predictions=predictions.drop(\"features\",\"indexedFeatures\")\n",
    "predictions.show(5)\n"
   ]
  },
  {
   "cell_type": "code",
   "execution_count": null,
   "metadata": {},
   "outputs": [],
   "source": [
    "# Save to RDBMS\n",
    "predictions.write.mode('append').format('jdbc').options(\n",
    "    url='jdbc:mysql://dbserver.edu.cloudlab.com/labuser_database',\n",
    "    driver='com.mysql.jdbc.Driver',\n",
    "    dbtable='bike_prediciton_results',\n",
    "    user='edu_labuser', \n",
    "    password='edureka'\n",
    ").save()"
   ]
  },
  {
   "cell_type": "code",
   "execution_count": null,
   "metadata": {
    "collapsed": true
   },
   "outputs": [],
   "source": []
  }
 ],
 "metadata": {
  "kernelspec": {
   "display_name": "PySpark",
   "language": "python",
   "name": "pyspark"
  },
  "language_info": {
   "codemirror_mode": {
    "name": "ipython",
    "version": 2
   },
   "file_extension": ".py",
   "mimetype": "text/x-python",
   "name": "python",
   "nbconvert_exporter": "python",
   "pygments_lexer": "ipython2",
   "version": "2.7.14"
  }
 },
 "nbformat": 4,
 "nbformat_minor": 2
}
